{
 "metadata": {
  "name": "",
  "signature": "sha256:19b5be4a5e90bffd50a9048023fcdefad1f9c021f0a78b52cec14c28e7c34aec"
 },
 "nbformat": 3,
 "nbformat_minor": 0,
 "worksheets": [
  {
   "cells": [
    {
     "cell_type": "markdown",
     "metadata": {},
     "source": [
      "# Homework 2 Alex Pine, 2015/02/10\n",
      "\n",
      "# 1 Preliminaries\n",
      "## 1.1 Dataset construction\n",
      "### 1.1.1. Construct a design matrix\n",
      "See the \"RandomDesignMatrix\" function in hw2.py.\n",
      "### 1.1.2. Construct a true weight vector\n",
      "See the \"RandomSparseThetaVector\" function in hw2.py.\n",
      "### 1.1.3. Compute a noisy response vector\n",
      "See the \"ComputeNoisyResponseVector\" function in hw2.py.\n",
      "### 1.1.4. Partition the dataset into training, validation, and testing matrices.\n",
      "See the \"PartitionDataSet\" function in hw2.py."
     ]
    },
    {
     "cell_type": "markdown",
     "metadata": {},
     "source": [
      "# 1.2 Experiments with Ridge Regression\n",
      "Neither the directly computed Ridge Regression, nor the sklearn version was able to accurately determine the true weight vector. Both versions had zero weights that were exactly zero, and none of their weights were very near zero (although some where within 0.1 of zero). Neither of them weighted the first ten indices near 10 or -10. This is likely because L2 regularization does not favor sparse weight vectors.\n",
      "\n",
      "See the \"RidgeRegressionExperiments function\" in hw2.py for computations."
     ]
    },
    {
     "cell_type": "markdown",
     "metadata": {},
     "source": [
      "# 2 Lasso\n",
      "## 2.1 Shooting algorithm\n",
      "### 2.1.1 Plot the validation error vs \u03bb."
     ]
    },
    {
     "cell_type": "code",
     "collapsed": false,
     "input": [
      "%matplotlib inline\n",
      "import sys\n",
      "sys.path.append('/Users/pinesol/mlcs/hw2-lasso/')\n",
      "import hw2\n",
      "\n",
      "X = hw2.RandomDesignMatrix()\n",
      "true_theta = hw2.RandomSparseThetaVector()\n",
      "y = hw2.ComputeNoiseyResponseVector(X, true_theta)"
     ],
     "language": "python",
     "metadata": {},
     "outputs": [],
     "prompt_number": 34
    },
    {
     "cell_type": "code",
     "collapsed": false,
     "input": [
      "reload(hw2)\n",
      "\n",
      "lambda_regs = [10**i for i in range(-4, 2)]\n",
      "hw2.PlotValidationLossAgainstLambdas(X, y, true_theta, lambda_regs)"
     ],
     "language": "python",
     "metadata": {},
     "outputs": [
      {
       "output_type": "stream",
       "stream": "stdout",
       "text": [
        "Maximum iterations reached while calculating shooting lasso for lambda 0.100000, stopping optimization.\n",
        "Maximum iterations reached while calculating shooting lasso for lambda 1.000000, stopping optimization."
       ]
      },
      {
       "output_type": "stream",
       "stream": "stdout",
       "text": [
        "\n",
        "Maximum iterations reached while calculating shooting lasso for lambda 10.000000, stopping optimization."
       ]
      },
      {
       "output_type": "stream",
       "stream": "stdout",
       "text": [
        "\n",
        "best lambda: 0.100000, testing loss: 0.016673\n",
        "Number of true zeros: 63 out of 65.\n",
        "Number of true non-zeros (10 or -10): 9 out of 10\n"
       ]
      },
      {
       "metadata": {},
       "output_type": "display_data",
       "png": "[encoded data removed]",
       "text": [
        "<matplotlib.figure.Figure at 0x10cbb2590>"
       ]
      }
     ],
     "prompt_number": 37
    },
    {
     "cell_type": "markdown",
     "metadata": {},
     "source": [
      "### 2.1.2 Analyze the sparsity of your solution\n",
      "As you can see from the text output above, the shooting algorithm did a much better job than the Ridge Regression of approximating the real values of theta. 63 out of 65 of the entries in the true weights were close to zero, and 9 out of 10 of the non-zero weights were close to their true value, with errors less than 0.1.\n"
     ]
    },
    {
     "cell_type": "markdown",
     "metadata": {},
     "source": [
      "### 2.1.3 Implement the homotopy method described above, and compare its runtime to the non-homotophy method.\n",
      "See the 'ShootingHomotophy' function in hw2.py\n",
      "\n",
      "Using ten regularization constants that vary linearly from zero to $\\lambda_{max}$, the regular shooting lasso algorithm required 353.6 seconds to complete, while the the homotopy version only required 290.1 seconds. The last few iterations of the homotophy version took very few iterations to complete because the weight vector was already very close to its minimum. Had even more regularization constants been used (e.g. twenty instead of ten), then the speedup would have been more dramatic."
     ]
    },
    {
     "cell_type": "markdown",
     "metadata": {},
     "source": [
      "### 2.1.4 Derive matrix expressions for computing $a_j$ and $c_j$\n",
      "\n",
      "Scalar expression of $a_j$:\n",
      "\\begin{align}\n",
      "a_j & = 2\\sum_{i=1}^{n}x_{i,j}^2\n",
      "\\end{align}\n",
      "$\\sum_{i=1}^{n}x_{i,j}^2$ is the scalar value of $2(X^{T}X)$ at index $(j,j)$.\n",
      "Matrix expression of $a_j$:\n",
      "\\begin{align}\n",
      "a_j & = 2(X^{T}X)_{j,j}\n",
      "\\end{align}\n",
      "Scalar expression of $c_j$:\n",
      "\\begin{align}\n",
      "c_j & = 2\\sum_{i=1}^{n}\\big[x_{i,j}(y_i - \\sum_{k=1}^{d}\\big[w_{k}x_{i,k}\\big] + w_{j}x_{i,j})\\big]\n",
      "\\\\\n",
      "c_j & = 2\\sum_{i=1}^{n}(x_{i,j}y_i)\n",
      "- 2\\sum_{i=1}^{n}\\big[\\sum_{k=1}^{d}(w_{k}x_{i,k})\\big] \n",
      "+ 2\\sum_{i=1}^{n}(w_{j}x_{i,j}))\n",
      "\\end{align} \n",
      "Matrix expression of $c_j$:\n",
      "\\begin{align}\n",
      "c_j & = 2(X^{T}y)_{j,\\cdot} - 2\\big[(X^{T}X)_{j,\\cdot} \\cdot \\mathbf{w}\\big] + a_{j}w_{j}\n",
      "\\end{align} "
     ]
    },
    {
     "cell_type": "markdown",
     "metadata": {},
     "source": [
      "### 2.1.5 Implement vectorized version of the Shooting Lasso algorithm, and compare its speed to the normal version.\n",
      "See the 'ShootingLassoVectorized' function in hw2.py.\n",
      "\n",
      "Running the regular shooting lasso algorithm with the vectorized version took 19.7 seconds, as compared to the 353.6 seconds in the normal version.\n",
      "The vectored homotophy version required 19.1 seconds, as compared to the normal version, which took 290.1 seconds."
     ]
    },
    {
     "cell_type": "markdown",
     "metadata": {},
     "source": [
      "## 2.2 (Optional) Projected SGD via Variable Splitting\n",
      "Ran out of time! I wish I had had enough time to do this!"
     ]
    },
    {
     "cell_type": "markdown",
     "metadata": {},
     "source": [
      "## 2.3 Feature Correlation\n",
      "Let $X \\in \\mathbf{R}^{m x d}$ and let two of its columns $X_{\\cdot,i}$ and $X_{\\cdot,j}$ be equal.\n",
      "\n",
      "### 2.3.1 What is the relationship between $\\hat{\\theta}_i$ and $\\hat{\\theta}_j$ when $\\hat{\\theta}$ is derived from Lasso optimization?\n",
      "Let $a = \\theta_i$ and $b = \\theta_j$. Then we can write the objective function $J(\\theta)$:\n",
      "\\begin{align}\n",
      "J(\\theta) & = \\big[\\sum_{k=1}^{m}\\big[\\sum_{l \\in 1...d,-i,-j}\\theta_{i}x_{kl}\\big] + x_{ij}(a+b) - y_i \\big]^2 \n",
      "               + \\lambda\\big[|a|+|b| + \\sum_{l \\in 1...d,-i,-j}|\\theta_l|\\big]\n",
      "\\end{align}\n",
      "Proof by contradiction.\n",
      "\n",
      "Assertion: the minimum of $J(\\theta)$ is achieved when $a$ and $b$ have opposite signs.\n",
      "\n",
      "Then if you replaced $a$ with $a+b$, and $b$ with zero, then the squared loss term will not change in value, but the regularization term will be smaller than before, since $(|a+b| + 0) < |a|+|b|$ if $a$ and $b$ have opposite signs. Thus $J(\\theta)$ will be smaller than what we asserted was the minimum. This contradicts the assertion, proving that $a$ and $b$ have the same sign.\n",
      "\n",
      "\n",
      "Given that $\\text{sign}(a) = \\text{sign}(b)$, then $|a|+|b| = |a+b|$. If we define $c$ as $c = a+b$,\n",
      "then the objective function goes from\n",
      "\\begin{align}\n",
      "J(\\theta) & = \\big[\\sum_{k=1}^{m}\\big[\\sum_{l \\in 1...d,-i,-j}\\theta_{i}x_{kl}\\big] + x_{ij}(a+b) - y_i \\big]^2 \n",
      "               + \\lambda\\big[|a|+|b| + \\sum_{l \\in 1...d,-i,-j}|\\theta_l|\\big] \\\\\n",
      "J(\\theta) & = \\big[\\sum_{k=1}^{m}\\big[\\sum_{l \\in 1...d,-i,-j}\\theta_{i}x_{kl}\\big] + x_{ij}(a+b) - y_i \\big]^2 \n",
      "               + \\lambda\\big[|a+b| + \\sum_{l \\in 1...d,-i,-j}|\\theta_l|\\big]\n",
      "\\end{align}\n",
      "to this:\n",
      "\\begin{align}\n",
      "J(\\theta) & = \\big[\\sum_{k=1}^{m}\\big[\\sum_{l \\in 1...d,-i,-j}\\theta_{i}x_{kl}\\big] + x_{ij}c - y_i \\big]^2 \n",
      "               + \\lambda\\big[|c| + \\sum_{l \\in 1...d,-i,-j}|\\theta_l|\\big] \\\\           \n",
      "\\end{align}\n",
      "This is the same objective function we would get if we had a design matrix with one of the repeated columns removed. Since $c = a + b$, this means that lasso regression will always ensure that the weights coressponding to $X_{\\cdot,i}$ and $X_{\\cdot,i}$ will sum to the the weight value that would correspond one unrepeated columns."
     ]
    },
    {
     "cell_type": "markdown",
     "metadata": {},
     "source": [
      "### 2.3.2 What is the relationship between $\\hat{\\theta}_i$ and $\\hat{\\theta}_j$ when $\\hat{\\theta}$ is derived from Ridge optimization?\n",
      "\n",
      "Let $a = \\theta_i$ and $b = \\theta_j$. Then we can write the objective function $J(\\theta)$:\n",
      "\\begin{align}\n",
      "J(\\theta) & = \\big[\\sum_{k=1}^{m}\\big[\\sum_{l \\in 1...d,-i,-j}\\theta_{i}x_{kl}\\big] + x_{ij}(a+b) - y_i \\big]^2 \n",
      "               + \\lambda\\big[a^2+b^2 + \\sum_{l \\in 1...d,-i,-j}\\theta_l^2\\big]\n",
      "\\end{align}\n",
      "Let $c_k = \\sum_{l \\in 1...d,-i,-j}\\theta_{i}x_{kl}$ and let $c_{\\lambda} = \\sum_{l \\in 1...d,-i,-j}\\theta_l^2$, then\n",
      "\\begin{align}\n",
      "J(\\theta) & = \\big[\\sum_{k=1}^{m}\\big[c_k + x_{ij}(a+b) - y_i \\big]^2 + \\lambda\\big[a^2+b^2\\big] + c_{\\lambda}              \n",
      "\\end{align}\n",
      "Since $J(\\theta)$ is convex, then each of its partial derivatives should equal zero.\n",
      "\\begin{align}\n",
      "\\frac{\\partial J}{\\partial a} = 2\\big[\\sum_{k=1}^{m}\\big[c_k + x_{ij}(a+b) - y_i \\big]x_{ij}\\big] + 2a\\lambda = 0 \\\\\n",
      "\\frac{\\partial J}{\\partial b} = 2\\big[\\sum_{k=1}^{m}\\big[c_k + x_{ij}(a+b) - y_i \\big]x_{ij}\\big] + 2b\\lambda = 0\n",
      "\\end{align}\n",
      "Setting the two equal to each other, we see that\n",
      "\\begin{align}\n",
      "2a\\lambda = 2b\\lambda \\\\\n",
      "a = b\n",
      "\\end{align}"
     ]
    },
    {
     "cell_type": "markdown",
     "metadata": {},
     "source": [
      "### 2.3.3 (Optional) What do you think would happen with Lasso and ridge when $\\hat{\\theta}_i$ and $\\hat{\\theta}_j$ are highly correlated?\n",
      "Ran out of time before I could do this!"
     ]
    },
    {
     "cell_type": "markdown",
     "metadata": {},
     "source": [
      "## 3 Feedback (not graded)\n",
      "### 1. Approximately how long did it take to complete this assignment?\n",
      "Saturday: 3 hours.\n",
      "Sunday: 6 hours.\n",
      "Tuesday: 2 hours.\n",
      "Wednesday: 1 hour.\n",
      "Thursday: 4 hours.\n",
      "Total: 16 hours. \n",
      "Shorter than the last one, but still very long!\n",
      "### 2. Any other feedback?\n",
      "I found the math very time consuming. It took me a long time to figure it out. Shorter homeworks would be very much appreciated, especially since my other class is ramping up!"
     ]
    },
    {
     "cell_type": "code",
     "collapsed": false,
     "input": [],
     "language": "python",
     "metadata": {},
     "outputs": []
    }
   ],
   "metadata": {}
  }
 ]
}