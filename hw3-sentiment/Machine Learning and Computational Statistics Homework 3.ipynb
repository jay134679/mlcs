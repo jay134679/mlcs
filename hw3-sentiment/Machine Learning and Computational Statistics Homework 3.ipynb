{
 "metadata": {
  "name": "",
  "signature": "sha256:90eea9cd1775c49fd863fdf8777cb2cc54ce0927996ec0dd926e13cb854d8954"
 },
 "nbformat": 3,
 "nbformat_minor": 0,
 "worksheets": [
  {
   "cells": [
    {
     "cell_type": "heading",
     "level": 1,
     "metadata": {},
     "source": [
      "Homework 3: SVM and Sentiment Analysis"
     ]
    },
    {
     "cell_type": "heading",
     "level": 2,
     "metadata": {},
     "source": [
      "Alex Pine\n",
      "2015/02/22"
     ]
    },
    {
     "cell_type": "markdown",
     "metadata": {},
     "source": [
      "## The Data\n",
      "### 2.1 Load the data, and randomly split it into 1500 training examples and 500 test examples.\n",
      "See the 'PartitionData' and 'LoadData' functions in load.py."
     ]
    },
    {
     "cell_type": "markdown",
     "metadata": {},
     "source": [
      "## 3 Sparse Representations\n",
      "### 3.1 Write a function that converts an example into a sparse bag-of-words representation.\n",
      "See the 'SplitAndSparsifyXY' function in load.py.\n",
      "\n",
      "### 3.2 Write a version of generic gradient checker that works with sparse vectors represented as dict types.\n",
      "See the 'SparseGradChecker' function, and its use in the 'Pegasos' function in hw3.py."
     ]
    },
    {
     "cell_type": "markdown",
     "metadata": {},
     "source": [
      "## 4 Support Vector Machine via Pegasos\n",
      "### 4.1  Compute a subgradient for the \u201cstochastic\u201d SVM objective, which assumes a single training point. Show that if your step size rule is $\u03b7t = 1/(\u03bbt)$, then the the corresponding SGD update is the same as given in the pseudocode.\n",
      "\n",
      "The SVM objective function is:\n",
      "\\begin{align}\n",
      "J(w) & = \\frac{\\lambda}{2}\\|w\\|^2 + \\frac{1}{m}\\sum_{i=1}^{m}[\\text{max}\\{0, 1-y_iw^Tx_i\\}]\n",
      "\\end{align}\n",
      "The \"stochastic\" objective only considers one example of the design matrix at a time, so its objective function is given by:\n",
      "\\begin{align}\n",
      "J_i(w) & = \\frac{\\lambda}{2}\\|w\\|^2 + \\text{max}\\{0, 1-y_iw^Tx_i\\}\n",
      "\\end{align}\n",
      "A subgradient of $J_i$ is\n",
      "\\begin{align}\n",
      "\\nabla J_i(w) & =\\begin{cases}\n",
      "    \\lambda w - y_ix_i, & \\text{if $y_iw^Tx_i<1$}.\\\\\n",
      "    \\lambda w, & \\text{otherwise}.\n",
      "  \\end{cases}\n",
      "\\end{align}\n",
      "The Stocastic Gradient Descent (SGD) update rule is given by:\n",
      "\\begin{align}\n",
      "w_{i+1} = w_i - \\eta\\nabla J_i \\text{, where $\\eta$ is the step size.}\n",
      "\\end{align}\n",
      "\n",
      "If $\\eta = \\frac{1}{\\lambda t}$, where $t$ is the iteration of the SGD procedure, and $y_iw^Tx_i<1$, the SGD update rule can be written:\n",
      "\\begin{align}\n",
      "w_{i+1} & = w_i - \\eta(\\lambda w_i - y_i x_i)\\\\\n",
      "w_{i+1} & = w_i - \\eta\\lambda w_i - \\eta y_i x_i \\\\\n",
      "w_{i+1} & = (1 - \\eta \\lambda)w_i + \\eta y_i x_i\n",
      "\\end{align}\n",
      "When $y_iw^Tx_i>1$, the update rule is:\n",
      "\\begin{align}\n",
      "w_{i+1} & = w_i - \\eta\\lambda w_i \\\\\n",
      "w_{i+1} & = (1 - \\eta \\lambda)w_i\n",
      "\\end{align}\n",
      "These update rules match those of the Pegasos procedure exactly.\n"
     ]
    },
    {
     "cell_type": "markdown",
     "metadata": {},
     "source": [
      "### 4.2 Implement the Pegasos algorithm to run on a sparse data representation\n",
      "See the 'Pegasos' function in hw3.py.\n",
      "\n",
      "### 4.3 Write a function that takes the sparse weight vector w and a collection of $(x, y)$ pairs, and returns the percent error when predicting $y$ using $\\text{sign}(w^T x)$\n",
      "See the 'PercentageWrong' function in hw3.py\n",
      "\n",
      "### 4.4 Find the optimal regularization parameter\n",
      "The 'FindBestRegularizationParameter' function in homework 3 searches a range of regularization parameter that vary by powers of 10, and finds the top two values that result in the smallest losses on the test set. The function then searches between those two values, and returns the regularization parameter between those two that returns the smallest loss on the test set.\n",
      "\n",
      "The optimal value for the regularization parameter varied on the training and test set, but was typically somewhere around $10^{-5}$. The loss values that this regularization parameter produced averaged 0.172.\n",
      "\n",
      "### 4.5 Is there a correlation between higher magnitude scores and accuracy?\n",
      "The 'PlotScoresAgainstAccuracy' function in hw3.py divides the training set into buckets by score, and creates a bar chart that shows the accuracy of each bucket. This chart is shown below, and it clearly shows that the absolute value of the score correlates with its accuracy.\n"
     ]
    },
    {
     "cell_type": "code",
     "collapsed": false,
     "input": [
      "%matplotlib inline\n",
      "import sys\n",
      "sys.path.append('/Users/pinesol/mlcs/hw3-sentiment/')\n",
      "import load\n",
      "import hw3\n",
      "reload(hw3)\n",
      "X_training, y_training, X_testing, y_testing = load.LoadData()\n",
      "lambda_reg = 10**-5\n",
      "hw3.PlotScoresAgainstAccuracy(X_training, y_training, X_testing, y_testing, lambda_reg)"
     ],
     "language": "python",
     "metadata": {},
     "outputs": [
      {
       "output_type": "stream",
       "stream": "stdout",
       "text": [
        "Loading reviews from pickle file: /tmp/hw3_pickled_reviews.p\n",
        "Running Pegasos with regularization parameter"
       ]
      },
      {
       "output_type": "stream",
       "stream": "stdout",
       "text": [
        " 1e-05\n"
       ]
      },
      {
       "metadata": {},
       "output_type": "display_data",
       "png": "[encoded data removed]",
       "text": [
        "<matplotlib.figure.Figure at 0x11506ae50>"
       ]
      }
     ],
     "prompt_number": 4
    },
    {
     "cell_type": "markdown",
     "metadata": {},
     "source": [
      "## 5 Error Analysis\n",
      "### 5.1 Provide a short analysis for at least 3 incorrect examples.\n",
      "See the 'ErrorAnalysis' and 'PrintReviewInfo' in hw3.py functions for the code that allowed me to examine the classifier's most egregious errors.\n",
      "#### Incorrect Review 1\n",
      "The review my classifier got the most wrong was the negative review of 'Bicentennial Man'. This review was incorrectly classified as 'positive' with a score of 8242.3.\n",
      "Here are the first dozen terms of its debugging output:\n",
      "\n",
      "and , count: 22 , weight: 142.587311581 , term score: 3136.92085478 <br />\n",
      "a , count: 28 , weight: -68.5159808896 , term score: -1918.44746491 <br />\n",
      "this , count: 11 , weight: -164.808710788 , term score: -1812.89581867 <br />\n",
      "you , count: 6 , weight: 285.174623162 , term score: 1711.04773897 <br />\n",
      "as , count: 14 , weight: 122.217695641 , term score: 1711.04773897 <br />\n",
      "to , count: 17 , weight: -98.1445131662 , term score: -1668.45672383 <br />\n",
      "the , count: 38 , weight: 42.5910151476 , term score: 1618.45857561 <br />\n",
      "is , count: 21 , weight: 61.1088478205 , term score: 1283.28580423 <br />\n",
      "it , count: 14 , weight: 88.8855968297 , term score: 1244.39835562 <br />\n",
      "will , count: 4 , weight: 292.581756231 , term score: 1170.32702492 <br />\n",
      "very , count: 5 , weight: 185.178326729 , term score: 925.891633643 <br />\n",
      "have , count: 3 , weight: -227.769341876 , term score: -683.308025629\n",
      "\n",
      "\n",
      "The first thing I notice is that most of these words do not bear any significance releated to sentiment. They are all prepositions and other common words. They should be weighted at or close to zero.\n",
      "The values that hold negative sentiment are given a low weight, most likely because they do not appear in many reviews:\n",
      "\n",
      "sentimental , count: 1 , weight: 31.4803155439 , term score: 31.4803155439 <br />\n",
      "sentimentality , count: 1 , weight: -31.4803155439 , term score: -31.4803155439 <br />\n",
      "mushy , count: 1 , weight: -3.70356653457 , term score: -3.70356653457 <br />\n",
      "unrealistic , count: 1 , weight: -18.5178326729 , term score: -18.5178326729 <br />\n",
      "disappointing , count: 1 , weight: -94.4409466316 , term score: -94.4409466316 <br />\n",
      "\n",
      "Also note that \"sentimental\" and \"sentimentality\" have opposite signs, even though they have the same root word.\n",
      "\n",
      "#### Incorrect Review 2\n",
      "The second-most egregious error my classifier made was for the review of \"Liar Liar\". It got a positive review, but the classifier gave the review a score of -7770.1.\n",
      "\n",
      "This review also suffers from noise from insignificant words. Its biggest problem other than that seems to be that the classifier has learned that words involving humor have a negative or very small positive weight:\n",
      "\n",
      "funny , count: 5 , weight: -116.662345839 , term score: -583.311729195 <br />\n",
      "ridiculous , count: 1 , weight: -214.806859005 , term score: -214.806859005 <br />\n",
      "humor , count: 1 , weight: -212.955075738 , term score: -212.955075738 <br />\n",
      "laughs , count: 2 , weight: 33.3320988112 , term score: 66.6641976223 <br />\n",
      "laughing , count: 1 , weight: -20.3696159402 , term score: -20.3696159402 <br />\n",
      "comedy , count: 1 , weight: 20.3696159402 , term score: 20.3696159402 <br />\n",
      "laugh , count: 1 , weight: 20.3696159402 , term score: 20.3696159402 <br />\n",
      "\n",
      "#### Incorrect Review 3\n",
      "The third-most egregious error my classifier made was for the review of \"Snakes Eyes\". It got a negative review, but the classifier gave the review a score of 7409.0.\n",
      "\n",
      "Since this review is longer than the other two, all the insignificant words overshadow the significant ones even more than usual. These are the top scoring words:\n",
      "\n",
      "and , count: 48 , weight: 142.587311581 , term score: 6844.19095589 <br />\n",
      "to , count: 28 , weight: -98.1445131662 , term score: -2748.04636865 <br />\n",
      "the , count: 60 , weight: 42.5910151476 , term score: 2555.46090886 <br />\n",
      "this , count: 15 , weight: -164.808710788 , term score: -2472.13066183 <br />\n",
      "\n",
      "Since the review is so long, these terms appear many times, drowning out the more meaningful words such as these:\n",
      "\n",
      "stupid , count: 1 , weight: -201.844376134 , term score: -201.844376134 <br />\n",
      "disappointing , count: 2 , weight: -94.4409466316 , term score: -188.881893263 <br />\n",
      "cliched , count: 1 , weight: -120.365912374 , term score: -120.365912374 <br />\n",
      "aggravating , count: 2 , weight: -14.8142661383 , term score: -29.6285322766 <br />\n",
      "formulaic , count: 1 , weight: -9.25891633643 , term score: -9.25891633643 <br />\n",
      "\n",
      "Lastly, the author has a penchant for creative language. Since the classifier does not see these words often, it does not know what they mean. Examples:\n",
      "\n",
      "halfassed , count: 1 , weight: -11.1106996037 , term score: -11.1106996037 <br />\n",
      "brauvara , count: 1 , weight: 0.0 , term score: 0.0 <br />\n",
      "halfassedness , count: 1 , weight: 0.0 , term score: 0.0 <br />\n",
      "eighthassedness , count: 1 , weight: 0.0 , term score: 0.0 <br />\n",
      "\n",
      "Overall, I suspect the biggest improvement would come from down-weighting words that appear in many documents."
     ]
    },
    {
     "cell_type": "code",
     "collapsed": false,
     "input": [],
     "language": "python",
     "metadata": {},
     "outputs": []
    }
   ],
   "metadata": {}
  }
 ]
}